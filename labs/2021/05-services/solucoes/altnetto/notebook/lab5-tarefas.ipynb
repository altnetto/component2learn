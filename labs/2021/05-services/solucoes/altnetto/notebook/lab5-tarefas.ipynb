{
 "cells": [
  {
   "cell_type": "markdown",
   "source": [
    "# Laboratório 5 - Bloco 2\n",
    "\n",
    "Nas tarefas a seguir o número de células de resposta pode ser aumentado conforme a necessidade."
   ],
   "metadata": {}
  },
  {
   "cell_type": "code",
   "execution_count": 1,
   "source": [
    "import requests as rq\r\n",
    "import json"
   ],
   "outputs": [],
   "metadata": {}
  },
  {
   "cell_type": "code",
   "execution_count": 2,
   "source": [
    "def url_formater(url_param: str):\r\n",
    "    return f'''http://dbpedia.org/data/{url_param.replace(' ', '_')}.jsod'''"
   ],
   "outputs": [],
   "metadata": {}
  },
  {
   "cell_type": "markdown",
   "source": [
    "## Tarefa 1\n",
    "\n",
    "### Carregue o nó de Tenda dos Milagres (da versão em inglês Tent of Miracles) em Python e mostre o conteúdo JSON."
   ],
   "metadata": {}
  },
  {
   "cell_type": "code",
   "execution_count": 3,
   "source": [
    "tot_response = rq.get(url_formater('Tent of Miracles'))"
   ],
   "outputs": [],
   "metadata": {}
  },
  {
   "cell_type": "code",
   "execution_count": 4,
   "source": [
    "json_response = tot_response.json()\r\n",
    "json_response"
   ],
   "outputs": [
    {
     "output_type": "execute_result",
     "data": {
      "text/plain": [
       "{'d': {'results': [{'__metadata': {'uri': 'http://dbpedia.org/resource/Tent_of_Miracles'},\n",
       "    'http://dbpedia.org/ontology/wikiPageWikiLink': {'__deferred': {'uri': 'http://dbpedia.org/resource/Tent_of_Miracles_(novel)'}},\n",
       "    'http://dbpedia.org/ontology/wikiPageDisambiguates': {'__deferred': {'uri': 'http://dbpedia.org/resource/Tent_of_Miracles_(album)'}},\n",
       "    'http://dbpedia.org/ontology/wikiPageLength': '154',\n",
       "    'http://dbpedia.org/ontology/wikiPageID': '37750149',\n",
       "    'http://www.w3.org/ns/prov#wasDerivedFrom': {'__deferred': {'uri': 'http://en.wikipedia.org/wiki/Tent_of_Miracles?oldid=933203748&ns=0'}},\n",
       "    'http://xmlns.com/foaf/0.1/isPrimaryTopicOf': {'__deferred': {'uri': 'http://en.wikipedia.org/wiki/Tent_of_Miracles'}},\n",
       "    'http://www.w3.org/2002/07/owl#sameAs': {'__deferred': {'uri': 'http://www.wikidata.org/entity/Q7700759'}},\n",
       "    'http://dbpedia.org/property/wikiPageUsesTemplate': {'__deferred': {'uri': 'http://dbpedia.org/resource/Template:Disambiguation'}},\n",
       "    'http://dbpedia.org/ontology/wikiPageRevisionID': '933203748',\n",
       "    'http://www.w3.org/2000/01/rdf-schema#label': 'Tent of Miracles'}],\n",
       "  '__count': '1'}}"
      ]
     },
     "metadata": {},
     "execution_count": 4
    }
   ],
   "metadata": {}
  },
  {
   "cell_type": "markdown",
   "source": [
    "Como existe aqui uma desambiguação, dado que existem duas fontes distintas, utilizaremos a fonte da novela."
   ],
   "metadata": {}
  },
  {
   "cell_type": "code",
   "execution_count": 5,
   "source": [
    "true_link = json_response.get('d').get('results')[0].get('http://dbpedia.org/ontology/wikiPageWikiLink').get('__deferred').get('uri')\r\n",
    "true_link"
   ],
   "outputs": [
    {
     "output_type": "execute_result",
     "data": {
      "text/plain": [
       "'http://dbpedia.org/resource/Tent_of_Miracles_(novel)'"
      ]
     },
     "metadata": {},
     "execution_count": 5
    }
   ],
   "metadata": {}
  },
  {
   "cell_type": "code",
   "execution_count": 6,
   "source": [
    "true_response = rq.get(url_formater(true_link.split('/')[-1]))"
   ],
   "outputs": [],
   "metadata": {}
  },
  {
   "cell_type": "code",
   "execution_count": 7,
   "source": [
    "true_json_response = true_response.json()\r\n",
    "true_json_response"
   ],
   "outputs": [
    {
     "output_type": "execute_result",
     "data": {
      "text/plain": [
       "{'d': {'results': [{'__metadata': {'uri': 'http://dbpedia.org/resource/Tent_of_Miracles_(novel)'},\n",
       "    'http://www.w3.org/2000/01/rdf-schema#label': 'Tent of Miracles (novel)',\n",
       "    'http://dbpedia.org/ontology/wikiPageWikiLink': {'__deferred': {'uri': 'http://dbpedia.org/resource/French_New_Wave'}},\n",
       "    'http://purl.org/dc/terms/subject': {'__deferred': {'uri': 'http://dbpedia.org/resource/Category:Modernist_novels'}},\n",
       "    'http://www.w3.org/1999/02/22-rdf-syntax-ns#type': {'__deferred': {'uri': 'http://dbpedia.org/ontology/WrittenWork'}},\n",
       "    'http://dbpedia.org/property/wikiPageUsesTemplate': {'__deferred': {'uri': 'http://dbpedia.org/resource/Template:According_to_whom'}},\n",
       "    'http://www.w3.org/2000/01/rdf-schema#comment': 'Tent of Miracles (Portuguese: Tenda dos Milagres) is a Brazilian Modernist novel. It was written by Jorge Amado in 1967 and published the following year. It was later adapted to a 1977 Cinema Novo (Nouvelle Vague) film by director/screenplay writer Nelson Pereira dos Santos.',\n",
       "    'http://dbpedia.org/ontology/abstract': 'La bottega dei miracoli è un romanzo di Jorge Amado pubblicato nel 1960. Come altri romanzi dell&#39;autore (ad esempio Tieta d&#39;Agreste e Teresa Batista) è un testo composito, con un intreccio zigzagante fra analessi e prolessi, con mutamenti di voci narranti ed inserti di materiale eterogeneo.È possibile che l&#39;evento scatenante del racconto (la visita del famoso scienziato) sia stato ispirato dall&#39;esperienza vissuta; in quello stesso 1960, infatti, Jean Paul Sartre e Simone De Beauvoir visitarono il Brasile su invito dello stesso Amado: la visita divenne un evento mediatico, celebrato in numerose manifestazioni istituzionali.',\n",
       "    'http://dbpedia.org/property/pubDate': '1969',\n",
       "    'http://dbpedia.org/property/country': {'__deferred': {'uri': 'http://dbpedia.org/resource/Brazil'}},\n",
       "    'http://www.w3.org/2002/07/owl#sameAs': {'__deferred': {'uri': 'http://rdf.freebase.com/ns/m.02xrs4'}},\n",
       "    'http://dbpedia.org/ontology/wikiPageRevisionID': '974212123',\n",
       "    'http://dbpedia.org/property/author': {'__deferred': {'uri': 'http://dbpedia.org/resource/Jorge_Amado'}},\n",
       "    'http://dbpedia.org/ontology/author': {'__deferred': {'uri': 'http://dbpedia.org/resource/Jorge_Amado'}},\n",
       "    'http://xmlns.com/foaf/0.1/name': 'Tenda dos Milagres',\n",
       "    'http://dbpedia.org/property/englishPubDate': '1971',\n",
       "    'http://dbpedia.org/ontology/country': {'__deferred': {'uri': 'http://dbpedia.org/resource/Brazil'}},\n",
       "    'http://dbpedia.org/property/name': 'Tent of Miracles',\n",
       "    'http://purl.org/linguistics/gold/hypernym': {'__deferred': {'uri': 'http://dbpedia.org/resource/Novel'}},\n",
       "    'http://dbpedia.org/property/titleOrig': 'Tenda dos Milagres',\n",
       "    'http://dbpedia.org/ontology/publisher': {'__deferred': {'uri': 'http://dbpedia.org/resource/Brazil'}},\n",
       "    'http://dbpedia.org/ontology/language': {'__deferred': {'uri': 'http://dbpedia.org/resource/Portuguese_language'}},\n",
       "    'http://www.w3.org/ns/prov#wasDerivedFrom': {'__deferred': {'uri': 'http://en.wikipedia.org/wiki/Tent_of_Miracles_(novel)?oldid=974212123&ns=0'}},\n",
       "    'http://dbpedia.org/ontology/wikiPageLength': '5253',\n",
       "    'http://purl.org/dc/elements/1.1/publisher': 'Martins, Sao Paulo, Brazil',\n",
       "    'http://dbpedia.org/property/language': {'__deferred': {'uri': 'http://dbpedia.org/resource/Portuguese_language'}},\n",
       "    'http://dbpedia.org/ontology/wikiPageID': '623351',\n",
       "    'http://dbpedia.org/property/publisher': 'Martins, Sao Paulo, Brazil',\n",
       "    'http://dbpedia.org/property/caption': 'First edition',\n",
       "    'http://xmlns.com/foaf/0.1/isPrimaryTopicOf': {'__deferred': {'uri': 'http://en.wikipedia.org/wiki/Tent_of_Miracles_(novel)'}}}],\n",
       "  '__count': '1'}}"
      ]
     },
     "metadata": {},
     "execution_count": 7
    }
   ],
   "metadata": {}
  },
  {
   "cell_type": "markdown",
   "source": [
    "## Tarefa 2\n",
    "### Recupere via Python e mostre o autor de Tenda dos Milagres?"
   ],
   "metadata": {}
  },
  {
   "cell_type": "code",
   "execution_count": 8,
   "source": [
    "author = true_json_response.get('d').get('results')[0].get('http://dbpedia.org/property/author').get('__deferred').get('uri').split('/')[-1]\r\n",
    "print(f'{author=}')"
   ],
   "outputs": [
    {
     "output_type": "stream",
     "name": "stdout",
     "text": [
      "author='Jorge_Amado'\n"
     ]
    }
   ],
   "metadata": {}
  },
  {
   "cell_type": "markdown",
   "source": [
    "## Tarefa 3\n",
    "### Quais os termos usados para Aspirina (consulta JSON/MeSH em Python)?"
   ],
   "metadata": {}
  },
  {
   "cell_type": "code",
   "execution_count": 9,
   "source": [
    "def mesh_req(concept: str, limit: int=10, match: str='exact'):\r\n",
    "    concept = concept.replace(' ', '%20')\r\n",
    "    url = f\"https://id.nlm.nih.gov/mesh/lookup/descriptor?label={concept}&match={match}&limit={limit}\"\r\n",
    "\r\n",
    "    return rq.get(url)\r\n"
   ],
   "outputs": [],
   "metadata": {}
  },
  {
   "cell_type": "code",
   "execution_count": 11,
   "source": [
    "aspirine_startswith = mesh_req('Aspirin', 10, 'startswith')\r\n",
    "aspirine_exact = mesh_req('Aspirin')\r\n",
    "print(aspirine_startswith.json())\r\n",
    "print(aspirine_exact.json())"
   ],
   "outputs": [
    {
     "output_type": "stream",
     "name": "stdout",
     "text": [
      "[]\n",
      "[{'resource': 'http://id.nlm.nih.gov/mesh/D001241', 'label': 'Aspirin'}, {'resource': 'http://id.nlm.nih.gov/mesh/D000068342', 'label': 'Aspirin, Dipyridamole Drug Combination'}]\n",
      "[{'resource': 'http://id.nlm.nih.gov/mesh/D001241', 'label': 'Aspirin'}]\n"
     ]
    }
   ],
   "metadata": {}
  },
  {
   "cell_type": "code",
   "execution_count": 17,
   "source": [
    "print('Termos para designar aspirina:', end='\\n\\n')\r\n",
    "for aspirin in aspirine_startswith.json():\r\n",
    "    print('-', aspirin.get('label'))"
   ],
   "outputs": [
    {
     "output_type": "stream",
     "name": "stdout",
     "text": [
      "Termos para designar aspirina:\n",
      "\n",
      "- Aspirin\n",
      "- Aspirin, Dipyridamole Drug Combination\n"
     ]
    }
   ],
   "metadata": {}
  },
  {
   "cell_type": "markdown",
   "source": [
    "## Tarefa 4\n",
    "### Escolha algum lugar no OpenStreetMap e elabore a mesma sequência de três chamadas de serviços para o seu conceito."
   ],
   "metadata": {}
  },
  {
   "cell_type": "code",
   "execution_count": 47,
   "source": [
    "maringa = rq.get(\"http://nominatim.openstreetmap.org/search\", params={'format': 'json', 'q': 'catedral de maringá'})\r\n"
   ],
   "outputs": [],
   "metadata": {}
  },
  {
   "cell_type": "code",
   "execution_count": 48,
   "source": [
    "formated_maringa = json.dumps(maringa.json()[0], indent=3, ensure_ascii=False)\r\n",
    "print(formated_maringa)"
   ],
   "outputs": [
    {
     "output_type": "stream",
     "name": "stdout",
     "text": [
      "{\n",
      "   \"place_id\": 117492064,\n",
      "   \"licence\": \"Data © OpenStreetMap contributors, ODbL 1.0. https://osm.org/copyright\",\n",
      "   \"osm_type\": \"way\",\n",
      "   \"osm_id\": 120588822,\n",
      "   \"boundingbox\": [\n",
      "      \"-23.4265575\",\n",
      "      \"-23.4260814\",\n",
      "      \"-51.938485\",\n",
      "      \"-51.9379661\"\n",
      "   ],\n",
      "   \"lat\": \"-23.42631745\",\n",
      "   \"lon\": \"-51.93822554678807\",\n",
      "   \"display_name\": \"Catedral Nossa Senhora da Glória, Avenida Tiradentes, Jardim Ipiranga, Zona 50, Maringá, Região Geográfica Imediata de Maringá, Região Geográfica Intermediária de Maringá, Paraná, Região Sul, 87013-260, Brasil\",\n",
      "   \"class\": \"amenity\",\n",
      "   \"type\": \"place_of_worship\",\n",
      "   \"importance\": 0.5940287400552382,\n",
      "   \"icon\": \"https://nominatim.openstreetmap.org/ui/mapicons//place_of_worship_unknown3.p.20.png\"\n",
      "}\n"
     ]
    }
   ],
   "metadata": {}
  },
  {
   "cell_type": "code",
   "execution_count": 49,
   "source": [
    "maringa_data = maringa.json()[0]\r\n",
    "maringa_osm_id = maringa_data.get('osm_id')\r\n",
    "print(f'{maringa_osm_id=}')"
   ],
   "outputs": [
    {
     "output_type": "stream",
     "name": "stdout",
     "text": [
      "maringa_osm_id=120588822\n"
     ]
    }
   ],
   "metadata": {}
  },
  {
   "cell_type": "code",
   "execution_count": 52,
   "source": [
    "maringa_api_osm = rq.get(f\"https://api.openstreetmap.org/api/0.6/way/{maringa_osm_id}.json\")"
   ],
   "outputs": [],
   "metadata": {}
  },
  {
   "cell_type": "code",
   "execution_count": 55,
   "source": [
    "catedral_de_maringa_info = maringa_api_osm.json()\r\n",
    "catedral_de_maringa_info"
   ],
   "outputs": [
    {
     "output_type": "execute_result",
     "data": {
      "text/plain": [
       "{'version': '0.6',\n",
       " 'generator': 'CGImap 0.8.5 (2397205 spike-08.openstreetmap.org)',\n",
       " 'copyright': 'OpenStreetMap and contributors',\n",
       " 'attribution': 'http://www.openstreetmap.org/copyright',\n",
       " 'license': 'http://opendatacommons.org/licenses/odbl/1-0/',\n",
       " 'elements': [{'type': 'way',\n",
       "   'id': 120588822,\n",
       "   'timestamp': '2020-04-08T04:41:09Z',\n",
       "   'version': 12,\n",
       "   'changeset': 83226996,\n",
       "   'user': 'BatsmanMapsman',\n",
       "   'uid': 8794020,\n",
       "   'nodes': [7377642487,\n",
       "    7377642512,\n",
       "    7377642525,\n",
       "    7377642503,\n",
       "    7377642514,\n",
       "    7377638080,\n",
       "    7377638082,\n",
       "    7377642489,\n",
       "    7377642490,\n",
       "    7377642492,\n",
       "    7377642498,\n",
       "    7377642523,\n",
       "    7377642518,\n",
       "    1351804814,\n",
       "    1351804628,\n",
       "    5303469108,\n",
       "    1351804629,\n",
       "    7377642522,\n",
       "    7377642521,\n",
       "    7377642505,\n",
       "    7377642510,\n",
       "    7377642517,\n",
       "    7377642516,\n",
       "    7377642520,\n",
       "    7377642486,\n",
       "    7377642494,\n",
       "    1351804893,\n",
       "    7377642504,\n",
       "    7377642501,\n",
       "    7377642493,\n",
       "    1351804932,\n",
       "    1351804632,\n",
       "    1351804915,\n",
       "    1351794444,\n",
       "    5303469109,\n",
       "    1351804822,\n",
       "    5303469105,\n",
       "    7377642526,\n",
       "    7377642511,\n",
       "    7377642497,\n",
       "    7377642499,\n",
       "    7377642491,\n",
       "    7377642509,\n",
       "    7377642508,\n",
       "    7377638079,\n",
       "    7377642500,\n",
       "    7377642507,\n",
       "    7377638083,\n",
       "    7377642506,\n",
       "    1351804656,\n",
       "    1351804826,\n",
       "    1351812111,\n",
       "    1351804748,\n",
       "    1351804696,\n",
       "    7377642524,\n",
       "    7377638078,\n",
       "    7377642502,\n",
       "    7377642496,\n",
       "    7377642515,\n",
       "    7377642488,\n",
       "    7377642513,\n",
       "    7377642485,\n",
       "    7377642495,\n",
       "    7377642519,\n",
       "    7377638084,\n",
       "    7377638081,\n",
       "    5303469106,\n",
       "    1351804883,\n",
       "    1351804866,\n",
       "    5303469107,\n",
       "    1351811998,\n",
       "    1351804725,\n",
       "    7377642487],\n",
       "   'tags': {'alt_name': 'Catedral Basílica Menor Nossa Senhora da Glória',\n",
       "    'amenity': 'place_of_worship',\n",
       "    'building': 'cathedral',\n",
       "    'denomination': 'roman_catholic',\n",
       "    'height': '114 m',\n",
       "    'name': 'Catedral Nossa Senhora da Glória',\n",
       "    'name:de': 'Kathedrale von Maringa',\n",
       "    'name:en': 'Cathedral of Maringá',\n",
       "    'name:es': 'Catedral de Maringá',\n",
       "    'name:pt': 'Catedral Nossa Senhora da Glória',\n",
       "    'religion': 'christian',\n",
       "    'roof:height': '114 m',\n",
       "    'roof:shape': 'pyramidal',\n",
       "    'start_date': '1972',\n",
       "    'tourism': 'viewpoint',\n",
       "    'wikidata': 'Q1050636',\n",
       "    'wikipedia': 'en:Cathedral of Maringa'}}]}"
      ]
     },
     "metadata": {},
     "execution_count": 55
    }
   ],
   "metadata": {}
  },
  {
   "cell_type": "code",
   "execution_count": 64,
   "source": [
    "wikipedia_tag = catedral_de_maringa_info.get('elements')[0].get('tags').get('wikipedia')\r\n",
    "wikipedia_tag"
   ],
   "outputs": [
    {
     "output_type": "execute_result",
     "data": {
      "text/plain": [
       "'en:Cathedral of Maringa'"
      ]
     },
     "metadata": {},
     "execution_count": 64
    }
   ],
   "metadata": {}
  },
  {
   "cell_type": "code",
   "execution_count": 65,
   "source": [
    "str_cleaner = lambda x: x.replace('en:', '').replace(' ', '_')\r\n",
    "\r\n",
    "wikipedia_catedral = rq.get(f\"\"\"http://dbpedia.org/data/{str_cleaner(wikipedia_tag)}.jsod\"\"\")\r\n",
    "wikipedia_catedral.json()"
   ],
   "outputs": [
    {
     "output_type": "error",
     "ename": "JSONDecodeError",
     "evalue": "Expecting value: line 1 column 1 (char 0)",
     "traceback": [
      "\u001b[1;31m---------------------------------------------------------------------------\u001b[0m",
      "\u001b[1;31mJSONDecodeError\u001b[0m                           Traceback (most recent call last)",
      "\u001b[1;32m<ipython-input-65-e29bde86341a>\u001b[0m in \u001b[0;36m<module>\u001b[1;34m\u001b[0m\n\u001b[0;32m      1\u001b[0m \u001b[0mwikipedia_catedral\u001b[0m \u001b[1;33m=\u001b[0m \u001b[0mrq\u001b[0m\u001b[1;33m.\u001b[0m\u001b[0mget\u001b[0m\u001b[1;33m(\u001b[0m\u001b[1;34mf\"\"\"http://dbpedia.org/data/{wikipedia_tag.split(':')[1]}.jsod\"\"\"\u001b[0m\u001b[1;33m)\u001b[0m\u001b[1;33m\u001b[0m\u001b[1;33m\u001b[0m\u001b[0m\n\u001b[1;32m----> 2\u001b[1;33m \u001b[0mwikipedia_catedral\u001b[0m\u001b[1;33m.\u001b[0m\u001b[0mjson\u001b[0m\u001b[1;33m(\u001b[0m\u001b[1;33m)\u001b[0m\u001b[1;33m\u001b[0m\u001b[1;33m\u001b[0m\u001b[0m\n\u001b[0m",
      "\u001b[1;32m~\\AppData\\Local\\Programs\\Python\\Python39\\lib\\site-packages\\requests\\models.py\u001b[0m in \u001b[0;36mjson\u001b[1;34m(self, **kwargs)\u001b[0m\n\u001b[0;32m    898\u001b[0m                     \u001b[1;31m# used.\u001b[0m\u001b[1;33m\u001b[0m\u001b[1;33m\u001b[0m\u001b[1;33m\u001b[0m\u001b[0m\n\u001b[0;32m    899\u001b[0m                     \u001b[1;32mpass\u001b[0m\u001b[1;33m\u001b[0m\u001b[1;33m\u001b[0m\u001b[0m\n\u001b[1;32m--> 900\u001b[1;33m         \u001b[1;32mreturn\u001b[0m \u001b[0mcomplexjson\u001b[0m\u001b[1;33m.\u001b[0m\u001b[0mloads\u001b[0m\u001b[1;33m(\u001b[0m\u001b[0mself\u001b[0m\u001b[1;33m.\u001b[0m\u001b[0mtext\u001b[0m\u001b[1;33m,\u001b[0m \u001b[1;33m**\u001b[0m\u001b[0mkwargs\u001b[0m\u001b[1;33m)\u001b[0m\u001b[1;33m\u001b[0m\u001b[1;33m\u001b[0m\u001b[0m\n\u001b[0m\u001b[0;32m    901\u001b[0m \u001b[1;33m\u001b[0m\u001b[0m\n\u001b[0;32m    902\u001b[0m     \u001b[1;33m@\u001b[0m\u001b[0mproperty\u001b[0m\u001b[1;33m\u001b[0m\u001b[1;33m\u001b[0m\u001b[0m\n",
      "\u001b[1;32m~\\AppData\\Local\\Programs\\Python\\Python39\\lib\\site-packages\\simplejson\\__init__.py\u001b[0m in \u001b[0;36mloads\u001b[1;34m(s, encoding, cls, object_hook, parse_float, parse_int, parse_constant, object_pairs_hook, use_decimal, **kw)\u001b[0m\n\u001b[0;32m    523\u001b[0m             \u001b[0mparse_constant\u001b[0m \u001b[1;32mis\u001b[0m \u001b[1;32mNone\u001b[0m \u001b[1;32mand\u001b[0m \u001b[0mobject_pairs_hook\u001b[0m \u001b[1;32mis\u001b[0m \u001b[1;32mNone\u001b[0m\u001b[1;33m\u001b[0m\u001b[1;33m\u001b[0m\u001b[0m\n\u001b[0;32m    524\u001b[0m             and not use_decimal and not kw):\n\u001b[1;32m--> 525\u001b[1;33m         \u001b[1;32mreturn\u001b[0m \u001b[0m_default_decoder\u001b[0m\u001b[1;33m.\u001b[0m\u001b[0mdecode\u001b[0m\u001b[1;33m(\u001b[0m\u001b[0ms\u001b[0m\u001b[1;33m)\u001b[0m\u001b[1;33m\u001b[0m\u001b[1;33m\u001b[0m\u001b[0m\n\u001b[0m\u001b[0;32m    526\u001b[0m     \u001b[1;32mif\u001b[0m \u001b[0mcls\u001b[0m \u001b[1;32mis\u001b[0m \u001b[1;32mNone\u001b[0m\u001b[1;33m:\u001b[0m\u001b[1;33m\u001b[0m\u001b[1;33m\u001b[0m\u001b[0m\n\u001b[0;32m    527\u001b[0m         \u001b[0mcls\u001b[0m \u001b[1;33m=\u001b[0m \u001b[0mJSONDecoder\u001b[0m\u001b[1;33m\u001b[0m\u001b[1;33m\u001b[0m\u001b[0m\n",
      "\u001b[1;32m~\\AppData\\Local\\Programs\\Python\\Python39\\lib\\site-packages\\simplejson\\decoder.py\u001b[0m in \u001b[0;36mdecode\u001b[1;34m(self, s, _w, _PY3)\u001b[0m\n\u001b[0;32m    368\u001b[0m         \u001b[1;32mif\u001b[0m \u001b[0m_PY3\u001b[0m \u001b[1;32mand\u001b[0m \u001b[0misinstance\u001b[0m\u001b[1;33m(\u001b[0m\u001b[0ms\u001b[0m\u001b[1;33m,\u001b[0m \u001b[0mbytes\u001b[0m\u001b[1;33m)\u001b[0m\u001b[1;33m:\u001b[0m\u001b[1;33m\u001b[0m\u001b[1;33m\u001b[0m\u001b[0m\n\u001b[0;32m    369\u001b[0m             \u001b[0ms\u001b[0m \u001b[1;33m=\u001b[0m \u001b[0mstr\u001b[0m\u001b[1;33m(\u001b[0m\u001b[0ms\u001b[0m\u001b[1;33m,\u001b[0m \u001b[0mself\u001b[0m\u001b[1;33m.\u001b[0m\u001b[0mencoding\u001b[0m\u001b[1;33m)\u001b[0m\u001b[1;33m\u001b[0m\u001b[1;33m\u001b[0m\u001b[0m\n\u001b[1;32m--> 370\u001b[1;33m         \u001b[0mobj\u001b[0m\u001b[1;33m,\u001b[0m \u001b[0mend\u001b[0m \u001b[1;33m=\u001b[0m \u001b[0mself\u001b[0m\u001b[1;33m.\u001b[0m\u001b[0mraw_decode\u001b[0m\u001b[1;33m(\u001b[0m\u001b[0ms\u001b[0m\u001b[1;33m)\u001b[0m\u001b[1;33m\u001b[0m\u001b[1;33m\u001b[0m\u001b[0m\n\u001b[0m\u001b[0;32m    371\u001b[0m         \u001b[0mend\u001b[0m \u001b[1;33m=\u001b[0m \u001b[0m_w\u001b[0m\u001b[1;33m(\u001b[0m\u001b[0ms\u001b[0m\u001b[1;33m,\u001b[0m \u001b[0mend\u001b[0m\u001b[1;33m)\u001b[0m\u001b[1;33m.\u001b[0m\u001b[0mend\u001b[0m\u001b[1;33m(\u001b[0m\u001b[1;33m)\u001b[0m\u001b[1;33m\u001b[0m\u001b[1;33m\u001b[0m\u001b[0m\n\u001b[0;32m    372\u001b[0m         \u001b[1;32mif\u001b[0m \u001b[0mend\u001b[0m \u001b[1;33m!=\u001b[0m \u001b[0mlen\u001b[0m\u001b[1;33m(\u001b[0m\u001b[0ms\u001b[0m\u001b[1;33m)\u001b[0m\u001b[1;33m:\u001b[0m\u001b[1;33m\u001b[0m\u001b[1;33m\u001b[0m\u001b[0m\n",
      "\u001b[1;32m~\\AppData\\Local\\Programs\\Python\\Python39\\lib\\site-packages\\simplejson\\decoder.py\u001b[0m in \u001b[0;36mraw_decode\u001b[1;34m(self, s, idx, _w, _PY3)\u001b[0m\n\u001b[0;32m    398\u001b[0m             \u001b[1;32melif\u001b[0m \u001b[0mord0\u001b[0m \u001b[1;33m==\u001b[0m \u001b[1;36m0xef\u001b[0m \u001b[1;32mand\u001b[0m \u001b[0ms\u001b[0m\u001b[1;33m[\u001b[0m\u001b[0midx\u001b[0m\u001b[1;33m:\u001b[0m\u001b[0midx\u001b[0m \u001b[1;33m+\u001b[0m \u001b[1;36m3\u001b[0m\u001b[1;33m]\u001b[0m \u001b[1;33m==\u001b[0m \u001b[1;34m'\\xef\\xbb\\xbf'\u001b[0m\u001b[1;33m:\u001b[0m\u001b[1;33m\u001b[0m\u001b[1;33m\u001b[0m\u001b[0m\n\u001b[0;32m    399\u001b[0m                 \u001b[0midx\u001b[0m \u001b[1;33m+=\u001b[0m \u001b[1;36m3\u001b[0m\u001b[1;33m\u001b[0m\u001b[1;33m\u001b[0m\u001b[0m\n\u001b[1;32m--> 400\u001b[1;33m         \u001b[1;32mreturn\u001b[0m \u001b[0mself\u001b[0m\u001b[1;33m.\u001b[0m\u001b[0mscan_once\u001b[0m\u001b[1;33m(\u001b[0m\u001b[0ms\u001b[0m\u001b[1;33m,\u001b[0m \u001b[0midx\u001b[0m\u001b[1;33m=\u001b[0m\u001b[0m_w\u001b[0m\u001b[1;33m(\u001b[0m\u001b[0ms\u001b[0m\u001b[1;33m,\u001b[0m \u001b[0midx\u001b[0m\u001b[1;33m)\u001b[0m\u001b[1;33m.\u001b[0m\u001b[0mend\u001b[0m\u001b[1;33m(\u001b[0m\u001b[1;33m)\u001b[0m\u001b[1;33m)\u001b[0m\u001b[1;33m\u001b[0m\u001b[1;33m\u001b[0m\u001b[0m\n\u001b[0m",
      "\u001b[1;31mJSONDecodeError\u001b[0m: Expecting value: line 1 column 1 (char 0)"
     ]
    }
   ],
   "metadata": {}
  }
 ],
 "metadata": {
  "kernelspec": {
   "name": "python3",
   "display_name": "Python 3.9.4 64-bit"
  },
  "language_info": {
   "codemirror_mode": {
    "name": "ipython",
    "version": 3
   },
   "file_extension": ".py",
   "mimetype": "text/x-python",
   "name": "python",
   "nbconvert_exporter": "python",
   "pygments_lexer": "ipython3",
   "version": "3.9.4"
  },
  "interpreter": {
   "hash": "55421908667a225820f2cd05496734e43c3ddbc7d792b945edc730d5b93ba56f"
  }
 },
 "nbformat": 4,
 "nbformat_minor": 5
}