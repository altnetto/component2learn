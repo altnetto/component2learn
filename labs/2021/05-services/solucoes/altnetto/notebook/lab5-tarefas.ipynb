{
 "cells": [
  {
   "cell_type": "markdown",
   "source": [
    "# Laboratório 5 - Bloco 2\n",
    "\n",
    "Nas tarefas a seguir o número de células de resposta pode ser aumentado conforme a necessidade."
   ],
   "metadata": {}
  },
  {
   "cell_type": "code",
   "execution_count": 2,
   "source": [
    "import requests as rq\r\n",
    "import json"
   ],
   "outputs": [],
   "metadata": {}
  },
  {
   "cell_type": "code",
   "execution_count": 3,
   "source": [
    "def url_formater(url_param: str):\r\n",
    "    return f'''http://dbpedia.org/data/{url_param.replace(' ', '_')}.jsod'''"
   ],
   "outputs": [],
   "metadata": {}
  },
  {
   "cell_type": "markdown",
   "source": [
    "## Tarefa 1\n",
    "\n",
    "### Carregue o nó de Tenda dos Milagres (da versão em inglês Tent of Miracles) em Python e mostre o conteúdo JSON."
   ],
   "metadata": {}
  },
  {
   "cell_type": "code",
   "execution_count": 4,
   "source": [
    "tot_response = rq.get(url_formater('Tent of Miracles'))"
   ],
   "outputs": [],
   "metadata": {}
  },
  {
   "cell_type": "code",
   "execution_count": 5,
   "source": [
    "json_response = tot_response.json()\r\n",
    "json_response"
   ],
   "outputs": [
    {
     "output_type": "execute_result",
     "data": {
      "text/plain": [
       "{'d': {'results': [{'__metadata': {'uri': 'http://dbpedia.org/resource/Tent_of_Miracles'},\n",
       "    'http://dbpedia.org/ontology/wikiPageWikiLink': {'__deferred': {'uri': 'http://dbpedia.org/resource/Tent_of_Miracles_(novel)'}},\n",
       "    'http://dbpedia.org/ontology/wikiPageDisambiguates': {'__deferred': {'uri': 'http://dbpedia.org/resource/Tent_of_Miracles_(album)'}},\n",
       "    'http://dbpedia.org/ontology/wikiPageLength': '154',\n",
       "    'http://dbpedia.org/ontology/wikiPageID': '37750149',\n",
       "    'http://www.w3.org/ns/prov#wasDerivedFrom': {'__deferred': {'uri': 'http://en.wikipedia.org/wiki/Tent_of_Miracles?oldid=933203748&ns=0'}},\n",
       "    'http://xmlns.com/foaf/0.1/isPrimaryTopicOf': {'__deferred': {'uri': 'http://en.wikipedia.org/wiki/Tent_of_Miracles'}},\n",
       "    'http://www.w3.org/2002/07/owl#sameAs': {'__deferred': {'uri': 'http://www.wikidata.org/entity/Q7700759'}},\n",
       "    'http://dbpedia.org/property/wikiPageUsesTemplate': {'__deferred': {'uri': 'http://dbpedia.org/resource/Template:Disambiguation'}},\n",
       "    'http://dbpedia.org/ontology/wikiPageRevisionID': '933203748',\n",
       "    'http://www.w3.org/2000/01/rdf-schema#label': 'Tent of Miracles'}],\n",
       "  '__count': '1'}}"
      ]
     },
     "metadata": {},
     "execution_count": 5
    }
   ],
   "metadata": {}
  },
  {
   "cell_type": "markdown",
   "source": [
    "Como existe aqui uma desambiguação, dado que existem duas fontes distintas, utilizaremos a fonte da novela."
   ],
   "metadata": {}
  },
  {
   "cell_type": "code",
   "execution_count": 6,
   "source": [
    "true_link = json_response.get('d').get('results')[0].get('http://dbpedia.org/ontology/wikiPageWikiLink').get('__deferred').get('uri')\r\n",
    "true_link"
   ],
   "outputs": [
    {
     "output_type": "execute_result",
     "data": {
      "text/plain": [
       "'http://dbpedia.org/resource/Tent_of_Miracles_(novel)'"
      ]
     },
     "metadata": {},
     "execution_count": 6
    }
   ],
   "metadata": {}
  },
  {
   "cell_type": "code",
   "execution_count": 7,
   "source": [
    "true_response = rq.get(url_formater(true_link.split('/')[-1]))"
   ],
   "outputs": [],
   "metadata": {}
  },
  {
   "cell_type": "code",
   "execution_count": 8,
   "source": [
    "true_json_response = true_response.json()\r\n",
    "true_json_response"
   ],
   "outputs": [
    {
     "output_type": "execute_result",
     "data": {
      "text/plain": [
       "{'d': {'results': [{'__metadata': {'uri': 'http://dbpedia.org/resource/Tent_of_Miracles_(novel)'},\n",
       "    'http://www.w3.org/2000/01/rdf-schema#label': 'Tent of Miracles (novel)',\n",
       "    'http://dbpedia.org/ontology/wikiPageWikiLink': {'__deferred': {'uri': 'http://dbpedia.org/resource/French_New_Wave'}},\n",
       "    'http://purl.org/dc/terms/subject': {'__deferred': {'uri': 'http://dbpedia.org/resource/Category:Modernist_novels'}},\n",
       "    'http://www.w3.org/1999/02/22-rdf-syntax-ns#type': {'__deferred': {'uri': 'http://dbpedia.org/ontology/WrittenWork'}},\n",
       "    'http://dbpedia.org/property/wikiPageUsesTemplate': {'__deferred': {'uri': 'http://dbpedia.org/resource/Template:According_to_whom'}},\n",
       "    'http://www.w3.org/2000/01/rdf-schema#comment': 'Tent of Miracles (Portuguese: Tenda dos Milagres) is a Brazilian Modernist novel. It was written by Jorge Amado in 1967 and published the following year. It was later adapted to a 1977 Cinema Novo (Nouvelle Vague) film by director/screenplay writer Nelson Pereira dos Santos.',\n",
       "    'http://dbpedia.org/ontology/abstract': 'La bottega dei miracoli è un romanzo di Jorge Amado pubblicato nel 1960. Come altri romanzi dell&#39;autore (ad esempio Tieta d&#39;Agreste e Teresa Batista) è un testo composito, con un intreccio zigzagante fra analessi e prolessi, con mutamenti di voci narranti ed inserti di materiale eterogeneo.È possibile che l&#39;evento scatenante del racconto (la visita del famoso scienziato) sia stato ispirato dall&#39;esperienza vissuta; in quello stesso 1960, infatti, Jean Paul Sartre e Simone De Beauvoir visitarono il Brasile su invito dello stesso Amado: la visita divenne un evento mediatico, celebrato in numerose manifestazioni istituzionali.',\n",
       "    'http://dbpedia.org/property/pubDate': '1969',\n",
       "    'http://dbpedia.org/property/country': {'__deferred': {'uri': 'http://dbpedia.org/resource/Brazil'}},\n",
       "    'http://www.w3.org/2002/07/owl#sameAs': {'__deferred': {'uri': 'http://rdf.freebase.com/ns/m.02xrs4'}},\n",
       "    'http://dbpedia.org/ontology/wikiPageRevisionID': '974212123',\n",
       "    'http://dbpedia.org/property/author': {'__deferred': {'uri': 'http://dbpedia.org/resource/Jorge_Amado'}},\n",
       "    'http://dbpedia.org/ontology/author': {'__deferred': {'uri': 'http://dbpedia.org/resource/Jorge_Amado'}},\n",
       "    'http://xmlns.com/foaf/0.1/name': 'Tenda dos Milagres',\n",
       "    'http://dbpedia.org/property/englishPubDate': '1971',\n",
       "    'http://dbpedia.org/ontology/country': {'__deferred': {'uri': 'http://dbpedia.org/resource/Brazil'}},\n",
       "    'http://dbpedia.org/property/name': 'Tent of Miracles',\n",
       "    'http://purl.org/linguistics/gold/hypernym': {'__deferred': {'uri': 'http://dbpedia.org/resource/Novel'}},\n",
       "    'http://dbpedia.org/property/titleOrig': 'Tenda dos Milagres',\n",
       "    'http://dbpedia.org/ontology/publisher': {'__deferred': {'uri': 'http://dbpedia.org/resource/Brazil'}},\n",
       "    'http://dbpedia.org/ontology/language': {'__deferred': {'uri': 'http://dbpedia.org/resource/Portuguese_language'}},\n",
       "    'http://www.w3.org/ns/prov#wasDerivedFrom': {'__deferred': {'uri': 'http://en.wikipedia.org/wiki/Tent_of_Miracles_(novel)?oldid=974212123&ns=0'}},\n",
       "    'http://dbpedia.org/ontology/wikiPageLength': '5253',\n",
       "    'http://purl.org/dc/elements/1.1/publisher': 'Martins, Sao Paulo, Brazil',\n",
       "    'http://dbpedia.org/property/language': {'__deferred': {'uri': 'http://dbpedia.org/resource/Portuguese_language'}},\n",
       "    'http://dbpedia.org/ontology/wikiPageID': '623351',\n",
       "    'http://dbpedia.org/property/publisher': 'Martins, Sao Paulo, Brazil',\n",
       "    'http://dbpedia.org/property/caption': 'First edition',\n",
       "    'http://xmlns.com/foaf/0.1/isPrimaryTopicOf': {'__deferred': {'uri': 'http://en.wikipedia.org/wiki/Tent_of_Miracles_(novel)'}}}],\n",
       "  '__count': '1'}}"
      ]
     },
     "metadata": {},
     "execution_count": 8
    }
   ],
   "metadata": {}
  },
  {
   "cell_type": "markdown",
   "source": [
    "## Tarefa 2\n",
    "### Recupere via Python e mostre o autor de Tenda dos Milagres?"
   ],
   "metadata": {}
  },
  {
   "cell_type": "code",
   "execution_count": 23,
   "source": [
    "author = true_json_response.get('d').get('results')[0].get('http://dbpedia.org/property/author').get('__deferred').get('uri').split('/')[-1]\r\n",
    "print(f'{author=}')"
   ],
   "outputs": [
    {
     "output_type": "stream",
     "name": "stdout",
     "text": [
      "author='Jorge_Amado'\n"
     ]
    }
   ],
   "metadata": {}
  },
  {
   "cell_type": "markdown",
   "source": [
    "## Tarefa 3\n",
    "### Quais os termos usados para Aspirina (consulta JSON/MeSH em Python)?"
   ],
   "metadata": {}
  },
  {
   "cell_type": "code",
   "execution_count": 38,
   "source": [
    "def mesh_req(concept: str, limit: int=10, match: str='exact'):\r\n",
    "    concept = concept.replace(' ', '%20')\r\n",
    "    url = f\"https://id.nlm.nih.gov/mesh/lookup/descriptor?label={concept}&match={match}&limit={limit}\"\r\n",
    "\r\n",
    "    return rq.get(url)\r\n"
   ],
   "outputs": [],
   "metadata": {}
  },
  {
   "cell_type": "code",
   "execution_count": 47,
   "source": [
    "aspirina = mesh_req('Aspirina', 10, 'startswith')\r\n",
    "print(aspirina.json())\r\n",
    "aspirine_startswith = mesh_req('Aspirine', 10, 'startswith')\r\n",
    "aspirine_exact = mesh_req('Aspirine')\r\n",
    "print(aspirine_startswith.json())\r\n",
    "print(aspirine_exact.json())"
   ],
   "outputs": [
    {
     "output_type": "stream",
     "name": "stdout",
     "text": [
      "[]\n",
      "[]\n",
      "[]\n"
     ]
    }
   ],
   "metadata": {}
  },
  {
   "cell_type": "markdown",
   "source": [
    "## Tarefa 4\n",
    "### Escolha algum lugar no OpenStreetMap e elabore a mesma sequência de três chamadas de serviços para o seu conceito."
   ],
   "metadata": {}
  },
  {
   "cell_type": "code",
   "execution_count": null,
   "source": [],
   "outputs": [],
   "metadata": {}
  }
 ],
 "metadata": {
  "kernelspec": {
   "name": "python3",
   "display_name": "Python 3.9.4 64-bit"
  },
  "language_info": {
   "codemirror_mode": {
    "name": "ipython",
    "version": 3
   },
   "file_extension": ".py",
   "mimetype": "text/x-python",
   "name": "python",
   "nbconvert_exporter": "python",
   "pygments_lexer": "ipython3",
   "version": "3.9.4"
  },
  "interpreter": {
   "hash": "55421908667a225820f2cd05496734e43c3ddbc7d792b945edc730d5b93ba56f"
  }
 },
 "nbformat": 4,
 "nbformat_minor": 5
}